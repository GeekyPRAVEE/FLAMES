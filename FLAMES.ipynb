{
 "cells": [
  {
   "cell_type": "code",
   "execution_count": 1,
   "metadata": {},
   "outputs": [
    {
     "name": "stdout",
     "output_type": "stream",
     "text": [
      "___________FLAMES___________\n",
      "enter name1:JAMMUNA RANI\n",
      "enter name 2:PRAVEEN\n",
      "relationship: AFFECTION\n"
     ]
    }
   ],
   "source": [
    "def removechar(l1,l2):\n",
    "    for i in range (len(l1)):\n",
    "        for j in range (len(l2)):\n",
    "            if l1[i]==l2[j]:\n",
    "                c=l1[i]\n",
    "                l1.remove(c)\n",
    "                l2.remove(c)\n",
    "                l3=l1+[\"*\"]+l2\n",
    "                return [l3,True]\n",
    "    l3=l1+[\"*\"]+l2\n",
    "    return [l3,False]\n",
    "\n",
    "if __name__=='__main__':\n",
    "    print(\"___________FLAMES___________\")\n",
    "    p1=input(\"enter name1:\")\n",
    "    p1=p1.lower()\n",
    "    p1.replace(\" \",'')\n",
    "    p1list=list(p1)\n",
    "    p2=input(\"enter name 2:\")\n",
    "    p2=p2.lower()\n",
    "    p2.replace(\" \",'')\n",
    "    p2list=list(p2)\n",
    "    #print(p1list,p2list)\n",
    "    proceed=True\n",
    "    while proceed:\n",
    "        r=removechar(p1list,p2list)\n",
    "        concatlist=r[0]\n",
    "        proceed=r[1]\n",
    "        starindex=concatlist.index(\"*\")\n",
    "        p1list=concatlist[: starindex]\n",
    "        p2list=concatlist[starindex+1 :]\n",
    "    count=len(p1list)+len(p2list)\n",
    "    result=['FRIEND','LOVE','AFFECTION','MARRIAGE','ENEMY','SIBLING']\n",
    "    while len(result)>1:\n",
    "        si=count%len(result)-1\n",
    "        if si >=0:\n",
    "            left=result[:si]\n",
    "            right=result[si+1:]\n",
    "            result=right+left\n",
    "            \n",
    "        else:\n",
    "            result=result[:len(result)-1]\n",
    "    print(\"relationship:\",result[0])\n",
    "        "
   ]
  },
  {
   "cell_type": "code",
   "execution_count": null,
   "metadata": {},
   "outputs": [],
   "source": []
  }
 ],
 "metadata": {
  "kernelspec": {
   "display_name": "Python 3",
   "language": "python",
   "name": "python3"
  },
  "language_info": {
   "codemirror_mode": {
    "name": "ipython",
    "version": 3
   },
   "file_extension": ".py",
   "mimetype": "text/x-python",
   "name": "python",
   "nbconvert_exporter": "python",
   "pygments_lexer": "ipython3",
   "version": "3.7.4"
  }
 },
 "nbformat": 4,
 "nbformat_minor": 2
}
